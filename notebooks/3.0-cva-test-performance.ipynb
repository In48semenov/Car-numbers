{
 "cells": [
  {
   "cell_type": "code",
   "execution_count": 1,
   "id": "843c34d3",
   "metadata": {},
   "outputs": [
    {
     "name": "stdout",
     "output_type": "stream",
     "text": [
      "/home/cva/Car-numbers\n"
     ]
    }
   ],
   "source": [
    "%cd .."
   ]
  },
  {
   "cell_type": "code",
   "execution_count": 2,
   "id": "e0627b7f",
   "metadata": {},
   "outputs": [],
   "source": [
    "%%capture\n",
    "\n",
    "import pandas as pd\n",
    "from collections import defaultdict\n",
    "from tqdm import tqdm\n",
    "\n",
    "import matplotlib.pyplot as plt\n",
    "from src.predict.backend import Inference"
   ]
  },
  {
   "cell_type": "markdown",
   "id": "7a902294",
   "metadata": {},
   "source": [
    "### Тестирование модели на данном изображении"
   ]
  },
  {
   "cell_type": "code",
   "execution_count": 3,
   "id": "245d2076",
   "metadata": {},
   "outputs": [],
   "source": [
    "LABEL_PATH = \"./data/val/labels.csv\"\n",
    "DATASET_PATH = \"./data\""
   ]
  },
  {
   "cell_type": "code",
   "execution_count": 4,
   "id": "bd42833e",
   "metadata": {},
   "outputs": [],
   "source": [
    "data = pd.read_csv(LABEL_PATH)[:1000]"
   ]
  },
  {
   "cell_type": "code",
   "execution_count": 5,
   "id": "13c59788",
   "metadata": {},
   "outputs": [],
   "source": [
    "sum_time_by_models = defaultdict(int)\n",
    "cnt_num_by_models = defaultdict(int)"
   ]
  },
  {
   "cell_type": "code",
   "execution_count": 6,
   "id": "ea99d148",
   "metadata": {},
   "outputs": [],
   "source": [
    "%%capture\n",
    "\n",
    "experiments = [\n",
    "    Inference(detect_model=\"frcnn\",\n",
    "              ocr_model=\"easyocr_custom\",\n",
    "              debug=True),\n",
    "    Inference(detect_model = \"mtcnn\",\n",
    "              ocr_model=\"lprnet\",\n",
    "              debug=True),\n",
    "    Inference(detect_model=\"mtcnn\",\n",
    "              ocr_model=\"lprnet\",\n",
    "              transform_model = \"stnet\",\n",
    "              debug=True),\n",
    "     Inference(detect_model=\"yolo\",\n",
    "              ocr_model=\"easyocr\",\n",
    "              debug=True),\n",
    "]"
   ]
  },
  {
   "cell_type": "code",
   "execution_count": 7,
   "id": "b48206a8",
   "metadata": {},
   "outputs": [
    {
     "name": "stdout",
     "output_type": "stream",
     "text": [
      "frcnn+easyocr_custom\n"
     ]
    },
    {
     "name": "stderr",
     "output_type": "stream",
     "text": [
      "100%|██████████| 1000/1000 [02:54<00:00,  5.74it/s]\n"
     ]
    },
    {
     "name": "stdout",
     "output_type": "stream",
     "text": [
      "mtcnn+lprnet\n"
     ]
    },
    {
     "name": "stderr",
     "output_type": "stream",
     "text": [
      "100%|██████████| 1000/1000 [01:58<00:00,  8.42it/s]\n"
     ]
    },
    {
     "name": "stdout",
     "output_type": "stream",
     "text": [
      "mtcnn+stnet+lprnet\n"
     ]
    },
    {
     "name": "stderr",
     "output_type": "stream",
     "text": [
      " 56%|█████▌    | 558/1000 [01:05<01:02,  7.11it/s]"
     ]
    }
   ],
   "source": [
    "for exp in experiments:\n",
    "    print(exp.name_model)\n",
    "    for index, row in tqdm(data.iterrows(), total=data.shape[0]):\n",
    "        img_path = row[\"path\"][2:]\n",
    "        img_full_path = f\"{DATASET_PATH}/{img_path}\"\n",
    "\n",
    "        result_number, vis_image, debug_info = exp.detect_by_image_path(img_full_path)\n",
    "        \n",
    "        detect_model = exp.name_detect_model\n",
    "        \n",
    "        if exp.name_transform_model is not None:\n",
    "            ocr_model = f\"{exp.name_detect_model}+{exp.name_ocr_model}\"\n",
    "        else:\n",
    "            ocr_model = exp.name_ocr_model\n",
    "        \n",
    "        sum_time_by_models[detect_model]+=debug_info['detect_time']\n",
    "        sum_time_by_models[ocr_model]+=debug_info['ocr_time']\n",
    "        cnt_num_by_models[detect_model]+=1\n",
    "        cnt_num_by_models[ocr_model]+=1"
   ]
  }
 ],
 "metadata": {
  "kernelspec": {
   "display_name": "Python 3.10.7 ('.venv': venv)",
   "language": "python",
   "name": "python3"
  },
  "language_info": {
   "codemirror_mode": {
    "name": "ipython",
    "version": 3
   },
   "file_extension": ".py",
   "mimetype": "text/x-python",
   "name": "python",
   "nbconvert_exporter": "python",
   "pygments_lexer": "ipython3",
   "version": "3.10.7"
  },
  "vscode": {
   "interpreter": {
    "hash": "3167bc19183ea049dbc482c5ef8ebae828e4fa8ba4e514f1e317739866f120b8"
   }
  }
 },
 "nbformat": 4,
 "nbformat_minor": 5
}
